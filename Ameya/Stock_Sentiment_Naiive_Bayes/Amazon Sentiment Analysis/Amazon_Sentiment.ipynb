{
  "nbformat": 4,
  "nbformat_minor": 0,
  "metadata": {
    "colab": {
      "name": "Amazon_Sentiment.ipynb",
      "provenance": [],
      "collapsed_sections": []
    },
    "kernelspec": {
      "name": "python3",
      "display_name": "Python 3"
    },
    "accelerator": "GPU"
  },
  "cells": [
    {
      "cell_type": "code",
      "metadata": {
        "id": "qzOqImvZ_CN_"
      },
      "source": [
        "import pandas as pd\r\n",
        "\r\n",
        "df = pd.read_csv(\"amazon_filtered_data.csv\")"
      ],
      "execution_count": 1,
      "outputs": []
    },
    {
      "cell_type": "code",
      "metadata": {
        "colab": {
          "base_uri": "https://localhost:8080/",
          "height": 402
        },
        "id": "l6QJqnKY_7B7",
        "outputId": "8b62b254-08af-46eb-c871-5328d0c840d2"
      },
      "source": [
        "df"
      ],
      "execution_count": 2,
      "outputs": [
        {
          "output_type": "execute_result",
          "data": {
            "text/html": [
              "<div>\n",
              "<style scoped>\n",
              "    .dataframe tbody tr th:only-of-type {\n",
              "        vertical-align: middle;\n",
              "    }\n",
              "\n",
              "    .dataframe tbody tr th {\n",
              "        vertical-align: top;\n",
              "    }\n",
              "\n",
              "    .dataframe thead th {\n",
              "        text-align: right;\n",
              "    }\n",
              "</style>\n",
              "<table border=\"1\" class=\"dataframe\">\n",
              "  <thead>\n",
              "    <tr style=\"text-align: right;\">\n",
              "      <th></th>\n",
              "      <th>headline</th>\n",
              "    </tr>\n",
              "  </thead>\n",
              "  <tbody>\n",
              "    <tr>\n",
              "      <th>0</th>\n",
              "      <td>Pro-WikiLeaks hacker crackdowns continue, FBI ...</td>\n",
              "    </tr>\n",
              "    <tr>\n",
              "      <th>1</th>\n",
              "      <td>Opening Bell: Markets mixed on U.S. GDP, earni...</td>\n",
              "    </tr>\n",
              "    <tr>\n",
              "      <th>2</th>\n",
              "      <td>FP Deal Flow: Naysayers pour cold water on soc...</td>\n",
              "    </tr>\n",
              "    <tr>\n",
              "      <th>3</th>\n",
              "      <td>Getting cloud computing right</td>\n",
              "    </tr>\n",
              "    <tr>\n",
              "      <th>4</th>\n",
              "      <td>Bootup: Naming Canada's anti-spam law, Apple i...</td>\n",
              "    </tr>\n",
              "    <tr>\n",
              "      <th>...</th>\n",
              "      <td>...</td>\n",
              "    </tr>\n",
              "    <tr>\n",
              "      <th>6288</th>\n",
              "      <td>Bill Gates-Led Fund Raises Another $1 Billion ...</td>\n",
              "    </tr>\n",
              "    <tr>\n",
              "      <th>6289</th>\n",
              "      <td>Loop Insights Integrates Bitcoin, Ethereum and...</td>\n",
              "    </tr>\n",
              "    <tr>\n",
              "      <th>6290</th>\n",
              "      <td>HempFusion's Wholly Owned Subsidiary Probulin ...</td>\n",
              "    </tr>\n",
              "    <tr>\n",
              "      <th>6291</th>\n",
              "      <td>Zynga Launches Harry Potter: Puzzles &amp; Spells ...</td>\n",
              "    </tr>\n",
              "    <tr>\n",
              "      <th>6292</th>\n",
              "      <td>Music Royalties Inc. Launches Private Placemen...</td>\n",
              "    </tr>\n",
              "  </tbody>\n",
              "</table>\n",
              "<p>6293 rows × 1 columns</p>\n",
              "</div>"
            ],
            "text/plain": [
              "                                               headline\n",
              "0     Pro-WikiLeaks hacker crackdowns continue, FBI ...\n",
              "1     Opening Bell: Markets mixed on U.S. GDP, earni...\n",
              "2     FP Deal Flow: Naysayers pour cold water on soc...\n",
              "3                         Getting cloud computing right\n",
              "4     Bootup: Naming Canada's anti-spam law, Apple i...\n",
              "...                                                 ...\n",
              "6288  Bill Gates-Led Fund Raises Another $1 Billion ...\n",
              "6289  Loop Insights Integrates Bitcoin, Ethereum and...\n",
              "6290  HempFusion's Wholly Owned Subsidiary Probulin ...\n",
              "6291  Zynga Launches Harry Potter: Puzzles & Spells ...\n",
              "6292  Music Royalties Inc. Launches Private Placemen...\n",
              "\n",
              "[6293 rows x 1 columns]"
            ]
          },
          "metadata": {
            "tags": []
          },
          "execution_count": 2
        }
      ]
    },
    {
      "cell_type": "code",
      "metadata": {
        "id": "ZXhqMAw8_9jw"
      },
      "source": [
        "text = df['headline']"
      ],
      "execution_count": 3,
      "outputs": []
    },
    {
      "cell_type": "code",
      "metadata": {
        "colab": {
          "base_uri": "https://localhost:8080/"
        },
        "id": "tGMDATyQAkyY",
        "outputId": "a168f1aa-8be8-45ce-a0ea-65eccdf90e11"
      },
      "source": [
        "!pip install vaderSentiment"
      ],
      "execution_count": 4,
      "outputs": [
        {
          "output_type": "stream",
          "text": [
            "Requirement already satisfied: vaderSentiment in /usr/local/lib/python3.6/dist-packages (3.3.2)\n",
            "Requirement already satisfied: requests in /usr/local/lib/python3.6/dist-packages (from vaderSentiment) (2.23.0)\n",
            "Requirement already satisfied: certifi>=2017.4.17 in /usr/local/lib/python3.6/dist-packages (from requests->vaderSentiment) (2020.12.5)\n",
            "Requirement already satisfied: urllib3!=1.25.0,!=1.25.1,<1.26,>=1.21.1 in /usr/local/lib/python3.6/dist-packages (from requests->vaderSentiment) (1.24.3)\n",
            "Requirement already satisfied: chardet<4,>=3.0.2 in /usr/local/lib/python3.6/dist-packages (from requests->vaderSentiment) (3.0.4)\n",
            "Requirement already satisfied: idna<3,>=2.5 in /usr/local/lib/python3.6/dist-packages (from requests->vaderSentiment) (2.10)\n"
          ],
          "name": "stdout"
        }
      ]
    },
    {
      "cell_type": "code",
      "metadata": {
        "colab": {
          "base_uri": "https://localhost:8080/"
        },
        "id": "Hpb-yXM5WS4x",
        "outputId": "a57d382e-7fd7-42e7-9c10-678ea7e5bc07"
      },
      "source": [
        "import nltk\r\n",
        "\r\n",
        "nltk.download('vader_lexicon')"
      ],
      "execution_count": 5,
      "outputs": [
        {
          "output_type": "stream",
          "text": [
            "[nltk_data] Downloading package vader_lexicon to /root/nltk_data...\n",
            "[nltk_data]   Package vader_lexicon is already up-to-date!\n"
          ],
          "name": "stdout"
        },
        {
          "output_type": "execute_result",
          "data": {
            "text/plain": [
              "True"
            ]
          },
          "metadata": {
            "tags": []
          },
          "execution_count": 5
        }
      ]
    },
    {
      "cell_type": "code",
      "metadata": {
        "id": "szxqqRD-AC3w",
        "colab": {
          "base_uri": "https://localhost:8080/"
        },
        "outputId": "937f7a51-4715-4880-d862-ea927cf66f63"
      },
      "source": [
        "from nltk.sentiment.vader import SentimentIntensityAnalyzer\r\n",
        "\r\n",
        "  \r\n",
        "    # Create a SentimentIntensityAnalyzer object. \r\n",
        "sid_obj = SentimentIntensityAnalyzer() \r\n",
        "  \r\n",
        "    # polarity_scores method of SentimentIntensityAnalyzer \r\n",
        "    # oject gives a sentiment dictionary. \r\n",
        "    # which contains pos, neg, neu, and compound scores.\r\n",
        "sentiment=[]\r\n",
        "for i in text:\r\n",
        "  sentiment_dict = sid_obj.polarity_scores(i)\r\n",
        "  if sentiment_dict['compound'] >= 0.05 :\r\n",
        "    sentiment.append('Positive')\r\n",
        "   \r\n",
        "  \r\n",
        "  elif sentiment_dict['compound'] <= - 0.05 : \r\n",
        "    sentiment.append('Negative')\r\n",
        "  \r\n",
        "  \r\n",
        "  else : \r\n",
        "    sentiment.append('Neutral')\r\n",
        "\r\n",
        "df2 = pd.DataFrame(sentiment,columns=['Sentiment'])\r\n",
        "   "
      ],
      "execution_count": 6,
      "outputs": [
        {
          "output_type": "stream",
          "text": [
            "/usr/local/lib/python3.6/dist-packages/nltk/twitter/__init__.py:20: UserWarning: The twython library has not been installed. Some functionality from the twitter package will not be available.\n",
            "  warnings.warn(\"The twython library has not been installed. \"\n"
          ],
          "name": "stderr"
        }
      ]
    },
    {
      "cell_type": "code",
      "metadata": {
        "colab": {
          "base_uri": "https://localhost:8080/",
          "height": 402
        },
        "id": "MuXSqw_5qz7Y",
        "outputId": "73e6252b-9c8d-4470-b127-8b9056bf9d3e"
      },
      "source": [
        "df2"
      ],
      "execution_count": 7,
      "outputs": [
        {
          "output_type": "execute_result",
          "data": {
            "text/html": [
              "<div>\n",
              "<style scoped>\n",
              "    .dataframe tbody tr th:only-of-type {\n",
              "        vertical-align: middle;\n",
              "    }\n",
              "\n",
              "    .dataframe tbody tr th {\n",
              "        vertical-align: top;\n",
              "    }\n",
              "\n",
              "    .dataframe thead th {\n",
              "        text-align: right;\n",
              "    }\n",
              "</style>\n",
              "<table border=\"1\" class=\"dataframe\">\n",
              "  <thead>\n",
              "    <tr style=\"text-align: right;\">\n",
              "      <th></th>\n",
              "      <th>Sentiment</th>\n",
              "    </tr>\n",
              "  </thead>\n",
              "  <tbody>\n",
              "    <tr>\n",
              "      <th>0</th>\n",
              "      <td>Neutral</td>\n",
              "    </tr>\n",
              "    <tr>\n",
              "      <th>1</th>\n",
              "      <td>Negative</td>\n",
              "    </tr>\n",
              "    <tr>\n",
              "      <th>2</th>\n",
              "      <td>Neutral</td>\n",
              "    </tr>\n",
              "    <tr>\n",
              "      <th>3</th>\n",
              "      <td>Neutral</td>\n",
              "    </tr>\n",
              "    <tr>\n",
              "      <th>4</th>\n",
              "      <td>Neutral</td>\n",
              "    </tr>\n",
              "    <tr>\n",
              "      <th>...</th>\n",
              "      <td>...</td>\n",
              "    </tr>\n",
              "    <tr>\n",
              "      <th>6288</th>\n",
              "      <td>Positive</td>\n",
              "    </tr>\n",
              "    <tr>\n",
              "      <th>6289</th>\n",
              "      <td>Positive</td>\n",
              "    </tr>\n",
              "    <tr>\n",
              "      <th>6290</th>\n",
              "      <td>Positive</td>\n",
              "    </tr>\n",
              "    <tr>\n",
              "      <th>6291</th>\n",
              "      <td>Neutral</td>\n",
              "    </tr>\n",
              "    <tr>\n",
              "      <th>6292</th>\n",
              "      <td>Neutral</td>\n",
              "    </tr>\n",
              "  </tbody>\n",
              "</table>\n",
              "<p>6293 rows × 1 columns</p>\n",
              "</div>"
            ],
            "text/plain": [
              "     Sentiment\n",
              "0      Neutral\n",
              "1     Negative\n",
              "2      Neutral\n",
              "3      Neutral\n",
              "4      Neutral\n",
              "...        ...\n",
              "6288  Positive\n",
              "6289  Positive\n",
              "6290  Positive\n",
              "6291   Neutral\n",
              "6292   Neutral\n",
              "\n",
              "[6293 rows x 1 columns]"
            ]
          },
          "metadata": {
            "tags": []
          },
          "execution_count": 7
        }
      ]
    },
    {
      "cell_type": "code",
      "metadata": {
        "id": "JrvbwKb3q03D"
      },
      "source": [
        "frames = [df,df2]\r\n",
        "\r\n",
        "df3 = pd.concat(frames,axis = 1)"
      ],
      "execution_count": 8,
      "outputs": []
    },
    {
      "cell_type": "code",
      "metadata": {
        "colab": {
          "base_uri": "https://localhost:8080/",
          "height": 402
        },
        "id": "tSG30KC9rQNM",
        "outputId": "ad294b62-649f-42e8-b224-017dea0b244a"
      },
      "source": [
        "df3"
      ],
      "execution_count": 9,
      "outputs": [
        {
          "output_type": "execute_result",
          "data": {
            "text/html": [
              "<div>\n",
              "<style scoped>\n",
              "    .dataframe tbody tr th:only-of-type {\n",
              "        vertical-align: middle;\n",
              "    }\n",
              "\n",
              "    .dataframe tbody tr th {\n",
              "        vertical-align: top;\n",
              "    }\n",
              "\n",
              "    .dataframe thead th {\n",
              "        text-align: right;\n",
              "    }\n",
              "</style>\n",
              "<table border=\"1\" class=\"dataframe\">\n",
              "  <thead>\n",
              "    <tr style=\"text-align: right;\">\n",
              "      <th></th>\n",
              "      <th>headline</th>\n",
              "      <th>Sentiment</th>\n",
              "    </tr>\n",
              "  </thead>\n",
              "  <tbody>\n",
              "    <tr>\n",
              "      <th>0</th>\n",
              "      <td>Pro-WikiLeaks hacker crackdowns continue, FBI ...</td>\n",
              "      <td>Neutral</td>\n",
              "    </tr>\n",
              "    <tr>\n",
              "      <th>1</th>\n",
              "      <td>Opening Bell: Markets mixed on U.S. GDP, earni...</td>\n",
              "      <td>Negative</td>\n",
              "    </tr>\n",
              "    <tr>\n",
              "      <th>2</th>\n",
              "      <td>FP Deal Flow: Naysayers pour cold water on soc...</td>\n",
              "      <td>Neutral</td>\n",
              "    </tr>\n",
              "    <tr>\n",
              "      <th>3</th>\n",
              "      <td>Getting cloud computing right</td>\n",
              "      <td>Neutral</td>\n",
              "    </tr>\n",
              "    <tr>\n",
              "      <th>4</th>\n",
              "      <td>Bootup: Naming Canada's anti-spam law, Apple i...</td>\n",
              "      <td>Neutral</td>\n",
              "    </tr>\n",
              "    <tr>\n",
              "      <th>...</th>\n",
              "      <td>...</td>\n",
              "      <td>...</td>\n",
              "    </tr>\n",
              "    <tr>\n",
              "      <th>6288</th>\n",
              "      <td>Bill Gates-Led Fund Raises Another $1 Billion ...</td>\n",
              "      <td>Positive</td>\n",
              "    </tr>\n",
              "    <tr>\n",
              "      <th>6289</th>\n",
              "      <td>Loop Insights Integrates Bitcoin, Ethereum and...</td>\n",
              "      <td>Positive</td>\n",
              "    </tr>\n",
              "    <tr>\n",
              "      <th>6290</th>\n",
              "      <td>HempFusion's Wholly Owned Subsidiary Probulin ...</td>\n",
              "      <td>Positive</td>\n",
              "    </tr>\n",
              "    <tr>\n",
              "      <th>6291</th>\n",
              "      <td>Zynga Launches Harry Potter: Puzzles &amp; Spells ...</td>\n",
              "      <td>Neutral</td>\n",
              "    </tr>\n",
              "    <tr>\n",
              "      <th>6292</th>\n",
              "      <td>Music Royalties Inc. Launches Private Placemen...</td>\n",
              "      <td>Neutral</td>\n",
              "    </tr>\n",
              "  </tbody>\n",
              "</table>\n",
              "<p>6293 rows × 2 columns</p>\n",
              "</div>"
            ],
            "text/plain": [
              "                                               headline Sentiment\n",
              "0     Pro-WikiLeaks hacker crackdowns continue, FBI ...   Neutral\n",
              "1     Opening Bell: Markets mixed on U.S. GDP, earni...  Negative\n",
              "2     FP Deal Flow: Naysayers pour cold water on soc...   Neutral\n",
              "3                         Getting cloud computing right   Neutral\n",
              "4     Bootup: Naming Canada's anti-spam law, Apple i...   Neutral\n",
              "...                                                 ...       ...\n",
              "6288  Bill Gates-Led Fund Raises Another $1 Billion ...  Positive\n",
              "6289  Loop Insights Integrates Bitcoin, Ethereum and...  Positive\n",
              "6290  HempFusion's Wholly Owned Subsidiary Probulin ...  Positive\n",
              "6291  Zynga Launches Harry Potter: Puzzles & Spells ...   Neutral\n",
              "6292  Music Royalties Inc. Launches Private Placemen...   Neutral\n",
              "\n",
              "[6293 rows x 2 columns]"
            ]
          },
          "metadata": {
            "tags": []
          },
          "execution_count": 9
        }
      ]
    },
    {
      "cell_type": "code",
      "metadata": {
        "id": "S5qVAvk7rwGX"
      },
      "source": [
        "df3.to_csv('Amazon_Sentiments.csv')"
      ],
      "execution_count": 10,
      "outputs": []
    },
    {
      "cell_type": "code",
      "metadata": {
        "colab": {
          "base_uri": "https://localhost:8080/"
        },
        "id": "jZnIGx9ckRdC",
        "outputId": "08e2d545-50d6-48b8-d3b8-012bb3ee495e"
      },
      "source": [
        "df3.dtypes"
      ],
      "execution_count": 11,
      "outputs": [
        {
          "output_type": "execute_result",
          "data": {
            "text/plain": [
              "headline     object\n",
              "Sentiment    object\n",
              "dtype: object"
            ]
          },
          "metadata": {
            "tags": []
          },
          "execution_count": 11
        }
      ]
    },
    {
      "cell_type": "code",
      "metadata": {
        "id": "uIMk_lAQYwJv"
      },
      "source": [
        "df4 = pd.read_csv('Amazon_Sentiments.csv')"
      ],
      "execution_count": 23,
      "outputs": []
    },
    {
      "cell_type": "code",
      "metadata": {
        "colab": {
          "base_uri": "https://localhost:8080/",
          "height": 402
        },
        "id": "LKfuIv28efub",
        "outputId": "fa1673e2-b651-4dd6-c561-ef703fdd1581"
      },
      "source": [
        "df4"
      ],
      "execution_count": 24,
      "outputs": [
        {
          "output_type": "execute_result",
          "data": {
            "text/html": [
              "<div>\n",
              "<style scoped>\n",
              "    .dataframe tbody tr th:only-of-type {\n",
              "        vertical-align: middle;\n",
              "    }\n",
              "\n",
              "    .dataframe tbody tr th {\n",
              "        vertical-align: top;\n",
              "    }\n",
              "\n",
              "    .dataframe thead th {\n",
              "        text-align: right;\n",
              "    }\n",
              "</style>\n",
              "<table border=\"1\" class=\"dataframe\">\n",
              "  <thead>\n",
              "    <tr style=\"text-align: right;\">\n",
              "      <th></th>\n",
              "      <th>Unnamed: 0</th>\n",
              "      <th>headline</th>\n",
              "      <th>Sentiment</th>\n",
              "    </tr>\n",
              "  </thead>\n",
              "  <tbody>\n",
              "    <tr>\n",
              "      <th>0</th>\n",
              "      <td>0</td>\n",
              "      <td>Pro-WikiLeaks hacker crackdowns continue, FBI ...</td>\n",
              "      <td>Neutral</td>\n",
              "    </tr>\n",
              "    <tr>\n",
              "      <th>1</th>\n",
              "      <td>1</td>\n",
              "      <td>Opening Bell: Markets mixed on U.S. GDP, earni...</td>\n",
              "      <td>Negative</td>\n",
              "    </tr>\n",
              "    <tr>\n",
              "      <th>2</th>\n",
              "      <td>2</td>\n",
              "      <td>FP Deal Flow: Naysayers pour cold water on soc...</td>\n",
              "      <td>Neutral</td>\n",
              "    </tr>\n",
              "    <tr>\n",
              "      <th>3</th>\n",
              "      <td>3</td>\n",
              "      <td>Getting cloud computing right</td>\n",
              "      <td>Neutral</td>\n",
              "    </tr>\n",
              "    <tr>\n",
              "      <th>4</th>\n",
              "      <td>4</td>\n",
              "      <td>Bootup: Naming Canada's anti-spam law, Apple i...</td>\n",
              "      <td>Neutral</td>\n",
              "    </tr>\n",
              "    <tr>\n",
              "      <th>...</th>\n",
              "      <td>...</td>\n",
              "      <td>...</td>\n",
              "      <td>...</td>\n",
              "    </tr>\n",
              "    <tr>\n",
              "      <th>6288</th>\n",
              "      <td>6288</td>\n",
              "      <td>Bill Gates-Led Fund Raises Another $1 Billion ...</td>\n",
              "      <td>Positive</td>\n",
              "    </tr>\n",
              "    <tr>\n",
              "      <th>6289</th>\n",
              "      <td>6289</td>\n",
              "      <td>Loop Insights Integrates Bitcoin, Ethereum and...</td>\n",
              "      <td>Positive</td>\n",
              "    </tr>\n",
              "    <tr>\n",
              "      <th>6290</th>\n",
              "      <td>6290</td>\n",
              "      <td>HempFusion's Wholly Owned Subsidiary Probulin ...</td>\n",
              "      <td>Positive</td>\n",
              "    </tr>\n",
              "    <tr>\n",
              "      <th>6291</th>\n",
              "      <td>6291</td>\n",
              "      <td>Zynga Launches Harry Potter: Puzzles &amp; Spells ...</td>\n",
              "      <td>Neutral</td>\n",
              "    </tr>\n",
              "    <tr>\n",
              "      <th>6292</th>\n",
              "      <td>6292</td>\n",
              "      <td>Music Royalties Inc. Launches Private Placemen...</td>\n",
              "      <td>Neutral</td>\n",
              "    </tr>\n",
              "  </tbody>\n",
              "</table>\n",
              "<p>6293 rows × 3 columns</p>\n",
              "</div>"
            ],
            "text/plain": [
              "      Unnamed: 0                                           headline Sentiment\n",
              "0              0  Pro-WikiLeaks hacker crackdowns continue, FBI ...   Neutral\n",
              "1              1  Opening Bell: Markets mixed on U.S. GDP, earni...  Negative\n",
              "2              2  FP Deal Flow: Naysayers pour cold water on soc...   Neutral\n",
              "3              3                      Getting cloud computing right   Neutral\n",
              "4              4  Bootup: Naming Canada's anti-spam law, Apple i...   Neutral\n",
              "...          ...                                                ...       ...\n",
              "6288        6288  Bill Gates-Led Fund Raises Another $1 Billion ...  Positive\n",
              "6289        6289  Loop Insights Integrates Bitcoin, Ethereum and...  Positive\n",
              "6290        6290  HempFusion's Wholly Owned Subsidiary Probulin ...  Positive\n",
              "6291        6291  Zynga Launches Harry Potter: Puzzles & Spells ...   Neutral\n",
              "6292        6292  Music Royalties Inc. Launches Private Placemen...   Neutral\n",
              "\n",
              "[6293 rows x 3 columns]"
            ]
          },
          "metadata": {
            "tags": []
          },
          "execution_count": 24
        }
      ]
    },
    {
      "cell_type": "code",
      "metadata": {
        "id": "tozfdJn6ehs1"
      },
      "source": [
        "df4 = df4.drop(labels = 'Unnamed: 0',axis = 1)"
      ],
      "execution_count": 29,
      "outputs": []
    },
    {
      "cell_type": "code",
      "metadata": {
        "id": "5Se4491AfCIb"
      },
      "source": [
        ""
      ],
      "execution_count": 14,
      "outputs": []
    },
    {
      "cell_type": "code",
      "metadata": {
        "id": "zFqSJ-_rfLPE"
      },
      "source": [
        "df4['Sentiment'] = df4['Sentiment'].replace(['Neutral','Positive','Negative'],['0','1','2'])"
      ],
      "execution_count": 30,
      "outputs": []
    },
    {
      "cell_type": "code",
      "metadata": {
        "colab": {
          "base_uri": "https://localhost:8080/",
          "height": 402
        },
        "id": "7W9rGUVtjiZ5",
        "outputId": "0b42eccf-be3c-44fa-d811-7a72108fe5d4"
      },
      "source": [
        "df4"
      ],
      "execution_count": 31,
      "outputs": [
        {
          "output_type": "execute_result",
          "data": {
            "text/html": [
              "<div>\n",
              "<style scoped>\n",
              "    .dataframe tbody tr th:only-of-type {\n",
              "        vertical-align: middle;\n",
              "    }\n",
              "\n",
              "    .dataframe tbody tr th {\n",
              "        vertical-align: top;\n",
              "    }\n",
              "\n",
              "    .dataframe thead th {\n",
              "        text-align: right;\n",
              "    }\n",
              "</style>\n",
              "<table border=\"1\" class=\"dataframe\">\n",
              "  <thead>\n",
              "    <tr style=\"text-align: right;\">\n",
              "      <th></th>\n",
              "      <th>headline</th>\n",
              "      <th>Sentiment</th>\n",
              "    </tr>\n",
              "  </thead>\n",
              "  <tbody>\n",
              "    <tr>\n",
              "      <th>0</th>\n",
              "      <td>Pro-WikiLeaks hacker crackdowns continue, FBI ...</td>\n",
              "      <td>0</td>\n",
              "    </tr>\n",
              "    <tr>\n",
              "      <th>1</th>\n",
              "      <td>Opening Bell: Markets mixed on U.S. GDP, earni...</td>\n",
              "      <td>2</td>\n",
              "    </tr>\n",
              "    <tr>\n",
              "      <th>2</th>\n",
              "      <td>FP Deal Flow: Naysayers pour cold water on soc...</td>\n",
              "      <td>0</td>\n",
              "    </tr>\n",
              "    <tr>\n",
              "      <th>3</th>\n",
              "      <td>Getting cloud computing right</td>\n",
              "      <td>0</td>\n",
              "    </tr>\n",
              "    <tr>\n",
              "      <th>4</th>\n",
              "      <td>Bootup: Naming Canada's anti-spam law, Apple i...</td>\n",
              "      <td>0</td>\n",
              "    </tr>\n",
              "    <tr>\n",
              "      <th>...</th>\n",
              "      <td>...</td>\n",
              "      <td>...</td>\n",
              "    </tr>\n",
              "    <tr>\n",
              "      <th>6288</th>\n",
              "      <td>Bill Gates-Led Fund Raises Another $1 Billion ...</td>\n",
              "      <td>1</td>\n",
              "    </tr>\n",
              "    <tr>\n",
              "      <th>6289</th>\n",
              "      <td>Loop Insights Integrates Bitcoin, Ethereum and...</td>\n",
              "      <td>1</td>\n",
              "    </tr>\n",
              "    <tr>\n",
              "      <th>6290</th>\n",
              "      <td>HempFusion's Wholly Owned Subsidiary Probulin ...</td>\n",
              "      <td>1</td>\n",
              "    </tr>\n",
              "    <tr>\n",
              "      <th>6291</th>\n",
              "      <td>Zynga Launches Harry Potter: Puzzles &amp; Spells ...</td>\n",
              "      <td>0</td>\n",
              "    </tr>\n",
              "    <tr>\n",
              "      <th>6292</th>\n",
              "      <td>Music Royalties Inc. Launches Private Placemen...</td>\n",
              "      <td>0</td>\n",
              "    </tr>\n",
              "  </tbody>\n",
              "</table>\n",
              "<p>6293 rows × 2 columns</p>\n",
              "</div>"
            ],
            "text/plain": [
              "                                               headline Sentiment\n",
              "0     Pro-WikiLeaks hacker crackdowns continue, FBI ...         0\n",
              "1     Opening Bell: Markets mixed on U.S. GDP, earni...         2\n",
              "2     FP Deal Flow: Naysayers pour cold water on soc...         0\n",
              "3                         Getting cloud computing right         0\n",
              "4     Bootup: Naming Canada's anti-spam law, Apple i...         0\n",
              "...                                                 ...       ...\n",
              "6288  Bill Gates-Led Fund Raises Another $1 Billion ...         1\n",
              "6289  Loop Insights Integrates Bitcoin, Ethereum and...         1\n",
              "6290  HempFusion's Wholly Owned Subsidiary Probulin ...         1\n",
              "6291  Zynga Launches Harry Potter: Puzzles & Spells ...         0\n",
              "6292  Music Royalties Inc. Launches Private Placemen...         0\n",
              "\n",
              "[6293 rows x 2 columns]"
            ]
          },
          "metadata": {
            "tags": []
          },
          "execution_count": 31
        }
      ]
    },
    {
      "cell_type": "code",
      "metadata": {
        "id": "n1PmOsBO6-C7"
      },
      "source": [
        "with open('contractions.json', 'r') as f:\r\n",
        "    contractions_dict = json.load(f)\r\n",
        "contractions = contractions_dict['contractions']"
      ],
      "execution_count": 40,
      "outputs": []
    },
    {
      "cell_type": "code",
      "metadata": {
        "id": "3NhNvgWunS-w"
      },
      "source": [
        "import re\r\n",
        "\r\n",
        "def process_tweet(headlines):\r\n",
        "    headlines = headlines.lower()                                             # Lowercases the string\r\n",
        "    headlines = re.sub('@[^\\s]+', '', headlines)                              # Removes usernames\r\n",
        "    headlines = re.sub('((www\\.[^\\s]+)|(https?://[^\\s]+))', ' ', headlines)   # Remove URLs\r\n",
        "    headlines = re.sub(r\"\\d+\", \" \", str(headlines))                           # Removes all digits\r\n",
        "    headlines = re.sub('&quot;',\" \", headlines)                               # Remove (&quot;) \r\n",
        "    headlines = emoji(headlines)                                              # Replaces Emojis\r\n",
        "    headlines = re.sub(r\"\\b[a-zA-Z]\\b\", \"\", str(headlines))                   # Removes all single characters\r\n",
        "    for word in headlines.split():\r\n",
        "        if word.lower() in contractions:\r\n",
        "            headlines = headlines.replace(word, contractions[word.lower()])   # Replaces contractions\r\n",
        "    headlines = re.sub(r\"[^\\w\\s]\", \" \", str(headlines))                       # Removes all punctuations\r\n",
        "    headlines = re.sub(r'(.)\\1+', r'\\1\\1', headlines)                         # Convert more than 2 letter repetitions to 2 letter\r\n",
        "    headlines = re.sub(r\"\\s+\", \" \", str(headlines))                           # Replaces double spaces with single space    \r\n",
        "    return headlines"
      ],
      "execution_count": 41,
      "outputs": []
    },
    {
      "cell_type": "code",
      "metadata": {
        "id": "4ZXEaDTh0eJO"
      },
      "source": [
        "def emoji(headlines):\r\n",
        "    # Smile -- :), : ), :-), (:, ( :, (-:, :') , :O\r\n",
        "    headlines = re.sub(r'(:\\s?\\)|:-\\)|\\(\\s?:|\\(-:|:\\'\\)|:O)', ' positiveemoji ', headlines)\r\n",
        "    # Laugh -- :D, : D, :-D, xD, x-D, XD, X-D\r\n",
        "    headlines = re.sub(r'(:\\s?D|:-D|x-?D|X-?D)', ' positiveemoji ', headlines)\r\n",
        "    # Love -- <3, :*\r\n",
        "    headlines = re.sub(r'(<3|:\\*)', ' positiveemoji ', headlines)\r\n",
        "    # Wink -- ;-), ;), ;-D, ;D, (;,  (-; , @-)\r\n",
        "    headlines = re.sub(r'(;-?\\)|;-?D|\\(-?;|@-\\))', ' positiveemoji ', headlines)\r\n",
        "    # Sad -- :-(, : (, :(, ):, )-:, :-/ , :-|\r\n",
        "    headlines = re.sub(r'(:\\s?\\(|:-\\(|\\)\\s?:|\\)-:|:-/|:-\\|)', ' negetiveemoji ', headlines)\r\n",
        "    # Cry -- :,(, :'(, :\"(\r\n",
        "    headlines = re.sub(r'(:,\\(|:\\'\\(|:\"\\()', ' negetiveemoji ', headlines)\r\n",
        "    return headlines"
      ],
      "execution_count": 42,
      "outputs": []
    },
    {
      "cell_type": "code",
      "metadata": {
        "id": "Uh0ByuHTsCYC"
      },
      "source": [
        "import json, nltk\r\n",
        "import matplotlib.pyplot as plt\r\n",
        "from wordcloud import WordCloud\r\n",
        "import seaborn as sns\r\n",
        "import numpy as np"
      ],
      "execution_count": 43,
      "outputs": []
    },
    {
      "cell_type": "code",
      "metadata": {
        "colab": {
          "base_uri": "https://localhost:8080/"
        },
        "id": "LhZmOvwQzq-T",
        "outputId": "03dcc89c-132d-4a74-a720-a09c29db098f"
      },
      "source": [
        "headlines = df4.columns.values[0]\r\n",
        "sentiment = df4.columns.values[1]\r\n",
        "headlines, sentiment"
      ],
      "execution_count": 44,
      "outputs": [
        {
          "output_type": "execute_result",
          "data": {
            "text/plain": [
              "('headline', 'Sentiment')"
            ]
          },
          "metadata": {
            "tags": []
          },
          "execution_count": 44
        }
      ]
    },
    {
      "cell_type": "code",
      "metadata": {
        "colab": {
          "base_uri": "https://localhost:8080/",
          "height": 35
        },
        "id": "ZNjIELEp22TN",
        "outputId": "b601b707-5d4b-4b30-ef11-b81ee6d4f730"
      },
      "source": [
        ""
      ],
      "execution_count": 36,
      "outputs": [
        {
          "output_type": "execute_result",
          "data": {
            "application/vnd.google.colaboratory.intrinsic+json": {
              "type": "string"
            },
            "text/plain": [
              "'headline'"
            ]
          },
          "metadata": {
            "tags": []
          },
          "execution_count": 36
        }
      ]
    },
    {
      "cell_type": "code",
      "metadata": {
        "id": "b-Ss_IwosXWX"
      },
      "source": [
        "df4['processed_headlines'] = np.vectorize(process_tweet)(df4[headlines])"
      ],
      "execution_count": 45,
      "outputs": []
    },
    {
      "cell_type": "code",
      "metadata": {
        "colab": {
          "base_uri": "https://localhost:8080/",
          "height": 343
        },
        "id": "ZwTJDEh-0qDT",
        "outputId": "c12d7912-4685-44d0-9245-80655786f6f2"
      },
      "source": [
        "df4.head(10)"
      ],
      "execution_count": 46,
      "outputs": [
        {
          "output_type": "execute_result",
          "data": {
            "text/html": [
              "<div>\n",
              "<style scoped>\n",
              "    .dataframe tbody tr th:only-of-type {\n",
              "        vertical-align: middle;\n",
              "    }\n",
              "\n",
              "    .dataframe tbody tr th {\n",
              "        vertical-align: top;\n",
              "    }\n",
              "\n",
              "    .dataframe thead th {\n",
              "        text-align: right;\n",
              "    }\n",
              "</style>\n",
              "<table border=\"1\" class=\"dataframe\">\n",
              "  <thead>\n",
              "    <tr style=\"text-align: right;\">\n",
              "      <th></th>\n",
              "      <th>headline</th>\n",
              "      <th>Sentiment</th>\n",
              "      <th>processed_headlines</th>\n",
              "    </tr>\n",
              "  </thead>\n",
              "  <tbody>\n",
              "    <tr>\n",
              "      <th>0</th>\n",
              "      <td>Pro-WikiLeaks hacker crackdowns continue, FBI ...</td>\n",
              "      <td>0</td>\n",
              "      <td>pro wikileaks hacker crackdowns continue fbi e...</td>\n",
              "    </tr>\n",
              "    <tr>\n",
              "      <th>1</th>\n",
              "      <td>Opening Bell: Markets mixed on U.S. GDP, earni...</td>\n",
              "      <td>2</td>\n",
              "      <td>opening bell markets mixed on gdp earnings misses</td>\n",
              "    </tr>\n",
              "    <tr>\n",
              "      <th>2</th>\n",
              "      <td>FP Deal Flow: Naysayers pour cold water on soc...</td>\n",
              "      <td>0</td>\n",
              "      <td>fp deal flow naysayers pour cold water on soci...</td>\n",
              "    </tr>\n",
              "    <tr>\n",
              "      <th>3</th>\n",
              "      <td>Getting cloud computing right</td>\n",
              "      <td>0</td>\n",
              "      <td>getting cloud computing right</td>\n",
              "    </tr>\n",
              "    <tr>\n",
              "      <th>4</th>\n",
              "      <td>Bootup: Naming Canada's anti-spam law, Apple i...</td>\n",
              "      <td>0</td>\n",
              "      <td>bootup naming canada anti spam law apple ipad ...</td>\n",
              "    </tr>\n",
              "    <tr>\n",
              "      <th>5</th>\n",
              "      <td>Amazon.com launches Netflix rival</td>\n",
              "      <td>0</td>\n",
              "      <td>amazon com launches netflix rival</td>\n",
              "    </tr>\n",
              "    <tr>\n",
              "      <th>6</th>\n",
              "      <td>Netflix short sellers may yet have their day</td>\n",
              "      <td>0</td>\n",
              "      <td>netflix short sellers may yet have their day</td>\n",
              "    </tr>\n",
              "    <tr>\n",
              "      <th>7</th>\n",
              "      <td>Bootup: Apple iPad 2 rivals might be dead on a...</td>\n",
              "      <td>2</td>\n",
              "      <td>bootup apple ipad rivals might be dead on arrival</td>\n",
              "    </tr>\n",
              "    <tr>\n",
              "      <th>8</th>\n",
              "      <td>Bootup: Hackers release BofA employee emails</td>\n",
              "      <td>0</td>\n",
              "      <td>bootup hackers release bofa employee emails</td>\n",
              "    </tr>\n",
              "    <tr>\n",
              "      <th>9</th>\n",
              "      <td>Zediva launches Netflix rival</td>\n",
              "      <td>0</td>\n",
              "      <td>zediva launches netflix rival</td>\n",
              "    </tr>\n",
              "  </tbody>\n",
              "</table>\n",
              "</div>"
            ],
            "text/plain": [
              "                                            headline  ...                                processed_headlines\n",
              "0  Pro-WikiLeaks hacker crackdowns continue, FBI ...  ...  pro wikileaks hacker crackdowns continue fbi e...\n",
              "1  Opening Bell: Markets mixed on U.S. GDP, earni...  ...  opening bell markets mixed on gdp earnings misses\n",
              "2  FP Deal Flow: Naysayers pour cold water on soc...  ...  fp deal flow naysayers pour cold water on soci...\n",
              "3                      Getting cloud computing right  ...                      getting cloud computing right\n",
              "4  Bootup: Naming Canada's anti-spam law, Apple i...  ...  bootup naming canada anti spam law apple ipad ...\n",
              "5                  Amazon.com launches Netflix rival  ...                  amazon com launches netflix rival\n",
              "6       Netflix short sellers may yet have their day  ...       netflix short sellers may yet have their day\n",
              "7  Bootup: Apple iPad 2 rivals might be dead on a...  ...  bootup apple ipad rivals might be dead on arrival\n",
              "8       Bootup: Hackers release BofA employee emails  ...        bootup hackers release bofa employee emails\n",
              "9                      Zediva launches Netflix rival  ...                      zediva launches netflix rival\n",
              "\n",
              "[10 rows x 3 columns]"
            ]
          },
          "metadata": {
            "tags": []
          },
          "execution_count": 46
        }
      ]
    },
    {
      "cell_type": "code",
      "metadata": {
        "id": "et-EL13v7pnW"
      },
      "source": [
        "df5 = df4"
      ],
      "execution_count": 48,
      "outputs": []
    },
    {
      "cell_type": "code",
      "metadata": {
        "id": "L_fDw70m77Xj"
      },
      "source": [
        "df5.to_csv('Preprocessing_Amazon.csv')"
      ],
      "execution_count": 49,
      "outputs": []
    },
    {
      "cell_type": "code",
      "metadata": {
        "colab": {
          "base_uri": "https://localhost:8080/"
        },
        "id": "suh35yoI8B4j",
        "outputId": "583ad763-ce6d-41c8-e91f-29df9393db62"
      },
      "source": [
        "from sklearn.feature_extraction.text import CountVectorizer\r\n",
        "\r\n",
        "count_vectorizer = CountVectorizer(ngram_range=(1,2))    # Unigram and Bigram\r\n",
        "final_vectorized_data = count_vectorizer.fit_transform(df4['processed_headlines'])  \r\n",
        "final_vectorized_data"
      ],
      "execution_count": 50,
      "outputs": [
        {
          "output_type": "execute_result",
          "data": {
            "text/plain": [
              "<6293x52677 sparse matrix of type '<class 'numpy.int64'>'\n",
              "\twith 130637 stored elements in Compressed Sparse Row format>"
            ]
          },
          "metadata": {
            "tags": []
          },
          "execution_count": 50
        }
      ]
    },
    {
      "cell_type": "code",
      "metadata": {
        "id": "DPMxHv9w8of2"
      },
      "source": [
        "from sklearn.model_selection import train_test_split\r\n",
        "X_train, X_test, y_train, y_test = train_test_split(final_vectorized_data, df4[sentiment],\r\n",
        "                                                    test_size=0.2, random_state=69)"
      ],
      "execution_count": 52,
      "outputs": []
    },
    {
      "cell_type": "code",
      "metadata": {
        "id": "ydIq1uyt8wjC"
      },
      "source": [
        "from sklearn.naive_bayes import MultinomialNB  # Naive Bayes Classifier\r\n",
        "\r\n",
        "model_naive = MultinomialNB().fit(X_train, y_train) \r\n",
        "predicted_naive = model_naive.predict(X_test)"
      ],
      "execution_count": 53,
      "outputs": []
    },
    {
      "cell_type": "code",
      "metadata": {
        "colab": {
          "base_uri": "https://localhost:8080/",
          "height": 404
        },
        "id": "a6iHFW9Y82H5",
        "outputId": "1c4c0c00-b849-4242-9c45-621d0ef42e08"
      },
      "source": [
        "from sklearn.metrics import confusion_matrix\r\n",
        "\r\n",
        "plt.figure(dpi=100)\r\n",
        "mat = confusion_matrix(y_test, predicted_naive)\r\n",
        "sns.heatmap(mat.T, annot=True, fmt='d', cbar=False)\r\n",
        "\r\n",
        "plt.title('Confusion Matrix for Naive Bayes')\r\n",
        "plt.xlabel('true label')\r\n",
        "plt.ylabel('predicted label')\r\n",
        "plt.savefig(\"confusion_matrix.png\")\r\n",
        "plt.show()"
      ],
      "execution_count": 58,
      "outputs": [
        {
          "output_type": "display_data",
          "data": {
            "image/png": "[encoded data removed]",
            "text/plain": [
              "<Figure size 600x400 with 1 Axes>"
            ]
          },
          "metadata": {
            "tags": [],
            "needs_background": "light"
          }
        }
      ]
    },
    {
      "cell_type": "code",
      "metadata": {
        "colab": {
          "base_uri": "https://localhost:8080/"
        },
        "id": "-S_9ZAIm9Nya",
        "outputId": "226ae402-dc26-4dc4-f628-bcd3b92fa2d4"
      },
      "source": [
        "from sklearn.metrics import accuracy_score\r\n",
        "\r\n",
        "score_naive = accuracy_score(predicted_naive, y_test)\r\n",
        "print(\"Accuracy with Naive-bayes: \",score_naive)\r\n"
      ],
      "execution_count": 59,
      "outputs": [
        {
          "output_type": "stream",
          "text": [
            "Accuracy with Naive-bayes:  0.6449563145353455\n"
          ],
          "name": "stdout"
        }
      ]
    }
  ]
}